{
 "cells": [
  {
   "cell_type": "markdown",
   "metadata": {},
   "source": [
    "# Introducción a la programación en Python\n",
    "\n",
    "Vamos a comenzar a ver los tipos de datos simples, en Python, como en cualquier otro lenguaje de programación, existen tipos de datos, de hecho, ya desde la escuela nos enseñan a escribir tanto textos como números y con el tiempo nos enseñan que existen números enteros, números decimales, entre otros.\n",
    "\n",
    "En Python por ejemplo, tenemos los tipos de datos simples, a continuación veremos de qué estamos hablando:\n",
    "\n",
    "| Tipo de dato | Descripción |\n",
    "| -------------|-------------|\n",
    "| Cadena de texto | Se represente entre comillas |\n",
    "| Número entero | Son los números que no llevan coma |\n",
    "| Números flotantes | Son los números decimales, es decir que llevan coma |"
   ]
  }
 ],
 "metadata": {
  "kernelspec": {
   "display_name": "Python 3",
   "language": "python",
   "name": "python3"
  },
  "language_info": {
   "codemirror_mode": {
    "name": "ipython",
    "version": 3
   },
   "file_extension": ".py",
   "mimetype": "text/x-python",
   "name": "python",
   "nbconvert_exporter": "python",
   "pygments_lexer": "ipython3",
   "version": "3.13.2"
  }
 },
 "nbformat": 4,
 "nbformat_minor": 2
}
